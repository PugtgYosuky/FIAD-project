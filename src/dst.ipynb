{
 "cells": [
  {
   "cell_type": "code",
   "execution_count": 105,
   "metadata": {},
   "outputs": [],
   "source": [
    "import numpy as np\n",
    "import json\n",
    "import pandas as pd"
   ]
  },
  {
   "cell_type": "code",
   "execution_count": 106,
   "metadata": {},
   "outputs": [],
   "source": [
    "def common_member(a, b):\n",
    "    a_set = set(a)\n",
    "    b_set = set(b)\n",
    "    if (a_set & b_set):\n",
    "        return (list(a_set & b_set))\n",
    "        \n",
    "    elif a == [\"0\"]:\n",
    "        return b\n",
    "\n",
    "    elif b == [\"0\"]:\n",
    "        return a\n",
    "\n",
    "    else:\n",
    "        return [\"X\"]"
   ]
  },
  {
   "cell_type": "code",
   "execution_count": 107,
   "metadata": {},
   "outputs": [],
   "source": [
    "\"\"\"\n",
    "def dst(sensor1, sensor2):\n",
    "    lista = []\n",
    "    aux_list =[]\n",
    "    k = 0\n",
    "    count = 0\n",
    "    for i in range(len(sensor1)):\n",
    "        \n",
    "        aux = \"\"\n",
    "        for j in range(len(sensor2)):\n",
    "            a = sensor1[i][0]\n",
    "            b = sensor2[j][0]\n",
    "            print(a)\n",
    "            print(b)\n",
    "            aux = common_member(a,b)\n",
    "            \n",
    "            m = sensor1[i][1] * sensor2[j][1]\n",
    "            print(aux)\n",
    "            if aux[0] == \"X\":\n",
    "                k += m\n",
    "                count= count +1\n",
    "            lista.append([aux,m])\n",
    "            aux_list.append(aux)\n",
    "    print(lista)\n",
    "    print(count)\n",
    "    print(k)\n",
    "\"\"\"\n",
    "def dst(sensor1, sensor2):\n",
    "    lista = []\n",
    "    aux_list =[]\n",
    "    k = 0\n",
    "    count = 0\n",
    "    for key, value in sensor1.items():\n",
    "        for key2, value2 in sensor2.items():\n",
    "            a = key\n",
    "            b = key2\n",
    "            aux = common_member(a,b)\n",
    "            \n",
    "            m = value * value2\n",
    "            if aux[0] == \"X\":\n",
    "                k += m\n",
    "                count= count +1\n",
    "            lista.append([aux,m])\n",
    "            aux_list.append(aux)\n",
    "\n",
    "    #print(lista)\n",
    "    #print(count)\n",
    "    #print(k)\n",
    "    return lista, k\n"
   ]
  },
  {
   "cell_type": "code",
   "execution_count": 108,
   "metadata": {},
   "outputs": [],
   "source": [
    "def sum_by_first(lst, k):\n",
    "    sums = {}\n",
    "    for item in lst:\n",
    "        key = item[0][0]\n",
    "        if key not in sums:\n",
    "            sums[key] = item[1]\n",
    "        else:\n",
    "            sums[key] += item[1]\n",
    "    return {key: value/k for key, value in sums.items()}\n",
    "\n"
   ]
  },
  {
   "cell_type": "code",
   "execution_count": 109,
   "metadata": {},
   "outputs": [],
   "source": [
    "def transform_dataframe(df, i):\n",
    "    selected_rows = df.iloc[i,:]\n",
    "    #print(\"selected row: \",selected_rows)\n",
    "\n",
    "    result = []\n",
    "\n",
    "    header1 = df.columns[0]\n",
    "    header2 = df.columns[1]\n",
    "    header3 = df.columns[2]\n",
    "    value1 = selected_rows[0]\n",
    "    value2 = selected_rows[1]\n",
    "    value3 = selected_rows[2]\n",
    "    result.append({header1: value1, header2: value2 ,header3: value3})\n",
    "\n",
    "    return result"
   ]
  },
  {
   "cell_type": "code",
   "execution_count": 110,
   "metadata": {},
   "outputs": [
    {
     "name": "stdout",
     "output_type": "stream",
     "text": [
      "result:  {'A': 0.1592039800995025, 'B': 0.17910447761194026, 'C': 0.14925373134328354}\n"
     ]
    }
   ],
   "source": [
    "df = pd.DataFrame({'A': [0.4, 0.2, 0.4], 'B': [0.3, 0.3, 0.4], 'C': [0.3, 0.2, 0.5]})\n",
    "\n",
    "#print(\"tamanho de df: \",len(df))\n",
    "\n",
    "result = {}\n",
    "for i in range(0, len(df)-1):\n",
    "    sensors = []\n",
    "    if i == 0:\n",
    "        sensor1 = transform_dataframe(df,i)\n",
    "        sensor2 = transform_dataframe(df,i+1)\n",
    "        sensors.append(sensor1[0])\n",
    "        sensors.append(sensor2[0])\n",
    "        #print(\"sensors: \",sensors)\n",
    "        lista, k = dst(sensors[0], sensors[1])\n",
    "        #print(\"lista: \",lista)\n",
    "        result = sum_by_first(lista, k)\n",
    "        del result['X']\n",
    "        #print(\"result: \",result)\n",
    "    else:\n",
    "        sensor1 = result\n",
    "        #print(\"sensor1 depois do else: \",sensor1)\n",
    "        sensor2 = transform_dataframe(df,i+1)\n",
    "        sensors.append(sensor1)\n",
    "        sensors.append(sensor2[0])\n",
    "        #print(\"sensors: \",sensors)\n",
    "        lista, k = dst(sensors[0], sensors[1])\n",
    "        #print(\"lista: \",lista)\n",
    "        result = sum_by_first(lista, k)\n",
    "        del result['X']\n",
    "        #print(\"result: \",result)\n",
    "print(\"result: \",result)"
   ]
  }
 ],
 "metadata": {
  "kernelspec": {
   "display_name": "Python 3",
   "language": "python",
   "name": "python3"
  },
  "language_info": {
   "codemirror_mode": {
    "name": "ipython",
    "version": 3
   },
   "file_extension": ".py",
   "mimetype": "text/x-python",
   "name": "python",
   "nbconvert_exporter": "python",
   "pygments_lexer": "ipython3",
   "version": "3.8.5"
  },
  "orig_nbformat": 4
 },
 "nbformat": 4,
 "nbformat_minor": 2
}
