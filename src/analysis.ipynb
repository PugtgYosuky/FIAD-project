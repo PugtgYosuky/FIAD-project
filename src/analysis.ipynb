{
 "cells": [
  {
   "cell_type": "code",
   "execution_count": 1,
   "metadata": {},
   "outputs": [],
   "source": [
    "import pandas as pd\n",
    "import numpy as np\n",
    "import seaborn as sns\n",
    "import matplotlib.pyplot as plt\n",
    "import os"
   ]
  },
  {
   "cell_type": "code",
   "execution_count": 2,
   "metadata": {},
   "outputs": [],
   "source": [
    "data = pd.read_csv(os.path.join('results', 'heart-disease-results.csv'))\n",
    "# data = pd.read_csv(os.path.join('results', 'wine-results.csv'))\n",
    "# data = pd.read_csv(os.path.join('results', 'iris-results.csv'))"
   ]
  },
  {
   "cell_type": "code",
   "execution_count": 3,
   "metadata": {},
   "outputs": [
    {
     "data": {
      "text/plain": [
       "array(['Model 0', 'Model 1', 'Model 2', 'Majority Voting',\n",
       "       'Higher Belief', 'Baseline Model', 'Ensemble Model', 'Model 3',\n",
       "       'Model 4'], dtype=object)"
      ]
     },
     "execution_count": 3,
     "metadata": {},
     "output_type": "execute_result"
    }
   ],
   "source": [
    "data.model_name.unique()"
   ]
  },
  {
   "cell_type": "code",
   "execution_count": 4,
   "metadata": {},
   "outputs": [],
   "source": [
    "type_splits = {\n",
    "    1: 'Cluster-based',\n",
    "    2: 'Random sampling without replacement',\n",
    "    3: 'Random sampling with replacement'\n",
    "}"
   ]
  },
  {
   "cell_type": "code",
   "execution_count": 5,
   "metadata": {},
   "outputs": [],
   "source": [
    "data.type_split = data.type_split.map(type_splits)"
   ]
  },
  {
   "cell_type": "code",
   "execution_count": 6,
   "metadata": {},
   "outputs": [],
   "source": [
    "data.loc[data.model_name == 'Ensemble Model', 'model_name'] = 'Bayesian Inference'\n",
    "data.loc[data.model_name == 'Higher Belief', 'model_name'] = 'Average Beliefs'"
   ]
  },
  {
   "cell_type": "code",
   "execution_count": 7,
   "metadata": {},
   "outputs": [],
   "source": [
    "cols_to_drop = [col for col in data.model_name.unique() if col.startswith('Model')]"
   ]
  },
  {
   "cell_type": "code",
   "execution_count": 8,
   "metadata": {},
   "outputs": [],
   "source": [
    "results = data[data.model_name.isin(cols_to_drop) == False]"
   ]
  },
  {
   "cell_type": "code",
   "execution_count": 9,
   "metadata": {},
   "outputs": [
    {
     "data": {
      "text/html": [
       "<div>\n",
       "<style scoped>\n",
       "    .dataframe tbody tr th:only-of-type {\n",
       "        vertical-align: middle;\n",
       "    }\n",
       "\n",
       "    .dataframe tbody tr th {\n",
       "        vertical-align: top;\n",
       "    }\n",
       "\n",
       "    .dataframe thead th {\n",
       "        text-align: right;\n",
       "    }\n",
       "</style>\n",
       "<table border=\"1\" class=\"dataframe\">\n",
       "  <thead>\n",
       "    <tr style=\"text-align: right;\">\n",
       "      <th></th>\n",
       "      <th>model_name</th>\n",
       "      <th>fold</th>\n",
       "      <th>num_estimators</th>\n",
       "      <th>type_split</th>\n",
       "      <th>balanced_accuracy</th>\n",
       "      <th>f1</th>\n",
       "    </tr>\n",
       "  </thead>\n",
       "  <tbody>\n",
       "    <tr>\n",
       "      <th>3</th>\n",
       "      <td>Majority Voting</td>\n",
       "      <td>0</td>\n",
       "      <td>3</td>\n",
       "      <td>Cluster-based</td>\n",
       "      <td>0.466667</td>\n",
       "      <td>0.375661</td>\n",
       "    </tr>\n",
       "    <tr>\n",
       "      <th>4</th>\n",
       "      <td>Average Beliefs</td>\n",
       "      <td>0</td>\n",
       "      <td>3</td>\n",
       "      <td>Cluster-based</td>\n",
       "      <td>0.966667</td>\n",
       "      <td>0.966583</td>\n",
       "    </tr>\n",
       "    <tr>\n",
       "      <th>5</th>\n",
       "      <td>Baseline Model</td>\n",
       "      <td>0</td>\n",
       "      <td>3</td>\n",
       "      <td>Cluster-based</td>\n",
       "      <td>0.966667</td>\n",
       "      <td>0.966583</td>\n",
       "    </tr>\n",
       "    <tr>\n",
       "      <th>6</th>\n",
       "      <td>Bayesian Inference</td>\n",
       "      <td>0</td>\n",
       "      <td>3</td>\n",
       "      <td>Cluster-based</td>\n",
       "      <td>0.333333</td>\n",
       "      <td>0.166667</td>\n",
       "    </tr>\n",
       "    <tr>\n",
       "      <th>12</th>\n",
       "      <td>Majority Voting</td>\n",
       "      <td>0</td>\n",
       "      <td>5</td>\n",
       "      <td>Cluster-based</td>\n",
       "      <td>0.566667</td>\n",
       "      <td>0.476530</td>\n",
       "    </tr>\n",
       "    <tr>\n",
       "      <th>...</th>\n",
       "      <td>...</td>\n",
       "      <td>...</td>\n",
       "      <td>...</td>\n",
       "      <td>...</td>\n",
       "      <td>...</td>\n",
       "      <td>...</td>\n",
       "    </tr>\n",
       "    <tr>\n",
       "      <th>230</th>\n",
       "      <td>Bayesian Inference</td>\n",
       "      <td>4</td>\n",
       "      <td>3</td>\n",
       "      <td>Random sampling with replacement</td>\n",
       "      <td>0.933333</td>\n",
       "      <td>0.932660</td>\n",
       "    </tr>\n",
       "    <tr>\n",
       "      <th>236</th>\n",
       "      <td>Majority Voting</td>\n",
       "      <td>4</td>\n",
       "      <td>5</td>\n",
       "      <td>Random sampling with replacement</td>\n",
       "      <td>0.933333</td>\n",
       "      <td>0.932660</td>\n",
       "    </tr>\n",
       "    <tr>\n",
       "      <th>237</th>\n",
       "      <td>Average Beliefs</td>\n",
       "      <td>4</td>\n",
       "      <td>5</td>\n",
       "      <td>Random sampling with replacement</td>\n",
       "      <td>0.933333</td>\n",
       "      <td>0.932660</td>\n",
       "    </tr>\n",
       "    <tr>\n",
       "      <th>238</th>\n",
       "      <td>Baseline Model</td>\n",
       "      <td>4</td>\n",
       "      <td>5</td>\n",
       "      <td>Random sampling with replacement</td>\n",
       "      <td>0.933333</td>\n",
       "      <td>0.932660</td>\n",
       "    </tr>\n",
       "    <tr>\n",
       "      <th>239</th>\n",
       "      <td>Bayesian Inference</td>\n",
       "      <td>4</td>\n",
       "      <td>5</td>\n",
       "      <td>Random sampling with replacement</td>\n",
       "      <td>0.900000</td>\n",
       "      <td>0.897698</td>\n",
       "    </tr>\n",
       "  </tbody>\n",
       "</table>\n",
       "<p>120 rows × 6 columns</p>\n",
       "</div>"
      ],
      "text/plain": [
       "             model_name  fold  num_estimators   \n",
       "3       Majority Voting     0               3  \\\n",
       "4       Average Beliefs     0               3   \n",
       "5        Baseline Model     0               3   \n",
       "6    Bayesian Inference     0               3   \n",
       "12      Majority Voting     0               5   \n",
       "..                  ...   ...             ...   \n",
       "230  Bayesian Inference     4               3   \n",
       "236     Majority Voting     4               5   \n",
       "237     Average Beliefs     4               5   \n",
       "238      Baseline Model     4               5   \n",
       "239  Bayesian Inference     4               5   \n",
       "\n",
       "                           type_split  balanced_accuracy        f1  \n",
       "3                       Cluster-based           0.466667  0.375661  \n",
       "4                       Cluster-based           0.966667  0.966583  \n",
       "5                       Cluster-based           0.966667  0.966583  \n",
       "6                       Cluster-based           0.333333  0.166667  \n",
       "12                      Cluster-based           0.566667  0.476530  \n",
       "..                                ...                ...       ...  \n",
       "230  Random sampling with replacement           0.933333  0.932660  \n",
       "236  Random sampling with replacement           0.933333  0.932660  \n",
       "237  Random sampling with replacement           0.933333  0.932660  \n",
       "238  Random sampling with replacement           0.933333  0.932660  \n",
       "239  Random sampling with replacement           0.900000  0.897698  \n",
       "\n",
       "[120 rows x 6 columns]"
      ]
     },
     "execution_count": 9,
     "metadata": {},
     "output_type": "execute_result"
    }
   ],
   "source": [
    "results"
   ]
  },
  {
   "attachments": {},
   "cell_type": "markdown",
   "metadata": {},
   "source": [
    "## Test type of sampling"
   ]
  },
  {
   "cell_type": "code",
   "execution_count": 10,
   "metadata": {},
   "outputs": [],
   "source": [
    "df = results[results.num_estimators == 3]"
   ]
  },
  {
   "cell_type": "code",
   "execution_count": 11,
   "metadata": {},
   "outputs": [],
   "source": [
    "df = df.groupby(['model_name', 'type_split']).mean().reset_index()"
   ]
  },
  {
   "cell_type": "code",
   "execution_count": 12,
   "metadata": {},
   "outputs": [
    {
     "data": {
      "text/html": [
       "<div>\n",
       "<style scoped>\n",
       "    .dataframe tbody tr th:only-of-type {\n",
       "        vertical-align: middle;\n",
       "    }\n",
       "\n",
       "    .dataframe tbody tr th {\n",
       "        vertical-align: top;\n",
       "    }\n",
       "\n",
       "    .dataframe thead th {\n",
       "        text-align: right;\n",
       "    }\n",
       "</style>\n",
       "<table border=\"1\" class=\"dataframe\">\n",
       "  <thead>\n",
       "    <tr style=\"text-align: right;\">\n",
       "      <th></th>\n",
       "      <th>model_name</th>\n",
       "      <th>type_split</th>\n",
       "      <th>fold</th>\n",
       "      <th>num_estimators</th>\n",
       "      <th>balanced_accuracy</th>\n",
       "      <th>f1</th>\n",
       "    </tr>\n",
       "  </thead>\n",
       "  <tbody>\n",
       "    <tr>\n",
       "      <th>11</th>\n",
       "      <td>Majority Voting</td>\n",
       "      <td>Random sampling without replacement</td>\n",
       "      <td>2.0</td>\n",
       "      <td>3.0</td>\n",
       "      <td>0.96</td>\n",
       "      <td>0.959832</td>\n",
       "    </tr>\n",
       "  </tbody>\n",
       "</table>\n",
       "</div>"
      ],
      "text/plain": [
       "         model_name                           type_split  fold   \n",
       "11  Majority Voting  Random sampling without replacement   2.0  \\\n",
       "\n",
       "    num_estimators  balanced_accuracy        f1  \n",
       "11             3.0               0.96  0.959832  "
      ]
     },
     "execution_count": 12,
     "metadata": {},
     "output_type": "execute_result"
    }
   ],
   "source": [
    "df[df.f1 == df.f1.max()]"
   ]
  },
  {
   "cell_type": "code",
   "execution_count": 13,
   "metadata": {},
   "outputs": [
    {
     "data": {
      "text/html": [
       "<div>\n",
       "<style scoped>\n",
       "    .dataframe tbody tr th:only-of-type {\n",
       "        vertical-align: middle;\n",
       "    }\n",
       "\n",
       "    .dataframe tbody tr th {\n",
       "        vertical-align: top;\n",
       "    }\n",
       "\n",
       "    .dataframe thead th {\n",
       "        text-align: right;\n",
       "    }\n",
       "</style>\n",
       "<table border=\"1\" class=\"dataframe\">\n",
       "  <thead>\n",
       "    <tr style=\"text-align: right;\">\n",
       "      <th></th>\n",
       "      <th>model_name</th>\n",
       "      <th>type_split</th>\n",
       "      <th>fold</th>\n",
       "      <th>num_estimators</th>\n",
       "      <th>balanced_accuracy</th>\n",
       "      <th>f1</th>\n",
       "    </tr>\n",
       "  </thead>\n",
       "  <tbody>\n",
       "    <tr>\n",
       "      <th>0</th>\n",
       "      <td>Average Beliefs</td>\n",
       "      <td>Cluster-based</td>\n",
       "      <td>2.0</td>\n",
       "      <td>3.0</td>\n",
       "      <td>0.946667</td>\n",
       "      <td>0.946330</td>\n",
       "    </tr>\n",
       "    <tr>\n",
       "      <th>1</th>\n",
       "      <td>Average Beliefs</td>\n",
       "      <td>Random sampling with replacement</td>\n",
       "      <td>2.0</td>\n",
       "      <td>3.0</td>\n",
       "      <td>0.960000</td>\n",
       "      <td>0.959596</td>\n",
       "    </tr>\n",
       "    <tr>\n",
       "      <th>2</th>\n",
       "      <td>Average Beliefs</td>\n",
       "      <td>Random sampling without replacement</td>\n",
       "      <td>2.0</td>\n",
       "      <td>3.0</td>\n",
       "      <td>0.960000</td>\n",
       "      <td>0.959798</td>\n",
       "    </tr>\n",
       "    <tr>\n",
       "      <th>3</th>\n",
       "      <td>Baseline Model</td>\n",
       "      <td>Cluster-based</td>\n",
       "      <td>2.0</td>\n",
       "      <td>3.0</td>\n",
       "      <td>0.960000</td>\n",
       "      <td>0.959697</td>\n",
       "    </tr>\n",
       "    <tr>\n",
       "      <th>4</th>\n",
       "      <td>Baseline Model</td>\n",
       "      <td>Random sampling with replacement</td>\n",
       "      <td>2.0</td>\n",
       "      <td>3.0</td>\n",
       "      <td>0.960000</td>\n",
       "      <td>0.959697</td>\n",
       "    </tr>\n",
       "    <tr>\n",
       "      <th>5</th>\n",
       "      <td>Baseline Model</td>\n",
       "      <td>Random sampling without replacement</td>\n",
       "      <td>2.0</td>\n",
       "      <td>3.0</td>\n",
       "      <td>0.960000</td>\n",
       "      <td>0.959697</td>\n",
       "    </tr>\n",
       "    <tr>\n",
       "      <th>6</th>\n",
       "      <td>Bayesian Inference</td>\n",
       "      <td>Cluster-based</td>\n",
       "      <td>2.0</td>\n",
       "      <td>3.0</td>\n",
       "      <td>0.333333</td>\n",
       "      <td>0.166667</td>\n",
       "    </tr>\n",
       "    <tr>\n",
       "      <th>7</th>\n",
       "      <td>Bayesian Inference</td>\n",
       "      <td>Random sampling with replacement</td>\n",
       "      <td>2.0</td>\n",
       "      <td>3.0</td>\n",
       "      <td>0.953333</td>\n",
       "      <td>0.952604</td>\n",
       "    </tr>\n",
       "    <tr>\n",
       "      <th>8</th>\n",
       "      <td>Bayesian Inference</td>\n",
       "      <td>Random sampling without replacement</td>\n",
       "      <td>2.0</td>\n",
       "      <td>3.0</td>\n",
       "      <td>0.960000</td>\n",
       "      <td>0.959697</td>\n",
       "    </tr>\n",
       "    <tr>\n",
       "      <th>9</th>\n",
       "      <td>Majority Voting</td>\n",
       "      <td>Cluster-based</td>\n",
       "      <td>2.0</td>\n",
       "      <td>3.0</td>\n",
       "      <td>0.560000</td>\n",
       "      <td>0.475294</td>\n",
       "    </tr>\n",
       "    <tr>\n",
       "      <th>10</th>\n",
       "      <td>Majority Voting</td>\n",
       "      <td>Random sampling with replacement</td>\n",
       "      <td>2.0</td>\n",
       "      <td>3.0</td>\n",
       "      <td>0.946667</td>\n",
       "      <td>0.946330</td>\n",
       "    </tr>\n",
       "    <tr>\n",
       "      <th>11</th>\n",
       "      <td>Majority Voting</td>\n",
       "      <td>Random sampling without replacement</td>\n",
       "      <td>2.0</td>\n",
       "      <td>3.0</td>\n",
       "      <td>0.960000</td>\n",
       "      <td>0.959832</td>\n",
       "    </tr>\n",
       "  </tbody>\n",
       "</table>\n",
       "</div>"
      ],
      "text/plain": [
       "            model_name                           type_split  fold   \n",
       "0      Average Beliefs                        Cluster-based   2.0  \\\n",
       "1      Average Beliefs     Random sampling with replacement   2.0   \n",
       "2      Average Beliefs  Random sampling without replacement   2.0   \n",
       "3       Baseline Model                        Cluster-based   2.0   \n",
       "4       Baseline Model     Random sampling with replacement   2.0   \n",
       "5       Baseline Model  Random sampling without replacement   2.0   \n",
       "6   Bayesian Inference                        Cluster-based   2.0   \n",
       "7   Bayesian Inference     Random sampling with replacement   2.0   \n",
       "8   Bayesian Inference  Random sampling without replacement   2.0   \n",
       "9      Majority Voting                        Cluster-based   2.0   \n",
       "10     Majority Voting     Random sampling with replacement   2.0   \n",
       "11     Majority Voting  Random sampling without replacement   2.0   \n",
       "\n",
       "    num_estimators  balanced_accuracy        f1  \n",
       "0              3.0           0.946667  0.946330  \n",
       "1              3.0           0.960000  0.959596  \n",
       "2              3.0           0.960000  0.959798  \n",
       "3              3.0           0.960000  0.959697  \n",
       "4              3.0           0.960000  0.959697  \n",
       "5              3.0           0.960000  0.959697  \n",
       "6              3.0           0.333333  0.166667  \n",
       "7              3.0           0.953333  0.952604  \n",
       "8              3.0           0.960000  0.959697  \n",
       "9              3.0           0.560000  0.475294  \n",
       "10             3.0           0.946667  0.946330  \n",
       "11             3.0           0.960000  0.959832  "
      ]
     },
     "execution_count": 13,
     "metadata": {},
     "output_type": "execute_result"
    }
   ],
   "source": [
    "df"
   ]
  },
  {
   "cell_type": "code",
   "execution_count": 14,
   "metadata": {},
   "outputs": [
    {
     "data": {
      "text/plain": [
       "Text(0, 0.5, 'F1-Score')"
      ]
     },
     "execution_count": 14,
     "metadata": {},
     "output_type": "execute_result"
    },
    {
     "data": {
      "image/png": "[encoded data removed]",
      "text/plain": [
       "<Figure size 1440x1080 with 1 Axes>"
      ]
     },
     "metadata": {
      "needs_background": "light"
     },
     "output_type": "display_data"
    }
   ],
   "source": [
    "plt.figure(figsize=(20, 15))\n",
    "ax = sns.barplot(data=df, x='model_name', y='f1', hue='type_split')\n",
    "for container in ax.containers:\n",
    "    ax.bar_label(container, fmt='%.3f')\n",
    "plt.ylim(0, 1)\n",
    "plt.title('Weighted F1-score achieved by each estimator and each type of sampling', fontdict=dict(size=20))\n",
    "plt.xlabel('Estimator', fontdict=dict(size=16))\n",
    "plt.ylabel('F1-Score', fontdict=dict(size=16))"
   ]
  },
  {
   "attachments": {},
   "cell_type": "markdown",
   "metadata": {},
   "source": [
    "## Test number estimators"
   ]
  },
  {
   "cell_type": "code",
   "execution_count": 15,
   "metadata": {},
   "outputs": [
    {
     "name": "stderr",
     "output_type": "stream",
     "text": [
      "/var/folders/7x/f99kq48n5_7cdmmy6sz268nw0000gn/T/ipykernel_67132/540570966.py:2: SettingWithCopyWarning: \n",
      "A value is trying to be set on a copy of a slice from a DataFrame\n",
      "\n",
      "See the caveats in the documentation: https://pandas.pydata.org/pandas-docs/stable/user_guide/indexing.html#returning-a-view-versus-a-copy\n",
      "  df.drop('type_split', axis=1, inplace=True)\n"
     ]
    }
   ],
   "source": [
    "df = results[results.type_split=='Random sampling with replacement']\n",
    "df.drop('type_split', axis=1, inplace=True)\n",
    "df = df.groupby(['model_name', 'num_estimators']).mean().reset_index()"
   ]
  },
  {
   "cell_type": "code",
   "execution_count": 16,
   "metadata": {},
   "outputs": [
    {
     "data": {
      "text/html": [
       "<div>\n",
       "<style scoped>\n",
       "    .dataframe tbody tr th:only-of-type {\n",
       "        vertical-align: middle;\n",
       "    }\n",
       "\n",
       "    .dataframe tbody tr th {\n",
       "        vertical-align: top;\n",
       "    }\n",
       "\n",
       "    .dataframe thead th {\n",
       "        text-align: right;\n",
       "    }\n",
       "</style>\n",
       "<table border=\"1\" class=\"dataframe\">\n",
       "  <thead>\n",
       "    <tr style=\"text-align: right;\">\n",
       "      <th></th>\n",
       "      <th>model_name</th>\n",
       "      <th>num_estimators</th>\n",
       "      <th>fold</th>\n",
       "      <th>balanced_accuracy</th>\n",
       "      <th>f1</th>\n",
       "    </tr>\n",
       "  </thead>\n",
       "  <tbody>\n",
       "    <tr>\n",
       "      <th>0</th>\n",
       "      <td>Average Beliefs</td>\n",
       "      <td>3</td>\n",
       "      <td>2.0</td>\n",
       "      <td>0.960000</td>\n",
       "      <td>0.959596</td>\n",
       "    </tr>\n",
       "    <tr>\n",
       "      <th>1</th>\n",
       "      <td>Average Beliefs</td>\n",
       "      <td>5</td>\n",
       "      <td>2.0</td>\n",
       "      <td>0.960000</td>\n",
       "      <td>0.959697</td>\n",
       "    </tr>\n",
       "    <tr>\n",
       "      <th>2</th>\n",
       "      <td>Baseline Model</td>\n",
       "      <td>3</td>\n",
       "      <td>2.0</td>\n",
       "      <td>0.960000</td>\n",
       "      <td>0.959697</td>\n",
       "    </tr>\n",
       "    <tr>\n",
       "      <th>3</th>\n",
       "      <td>Baseline Model</td>\n",
       "      <td>5</td>\n",
       "      <td>2.0</td>\n",
       "      <td>0.960000</td>\n",
       "      <td>0.959697</td>\n",
       "    </tr>\n",
       "    <tr>\n",
       "      <th>4</th>\n",
       "      <td>Bayesian Inference</td>\n",
       "      <td>3</td>\n",
       "      <td>2.0</td>\n",
       "      <td>0.953333</td>\n",
       "      <td>0.952604</td>\n",
       "    </tr>\n",
       "    <tr>\n",
       "      <th>5</th>\n",
       "      <td>Bayesian Inference</td>\n",
       "      <td>5</td>\n",
       "      <td>2.0</td>\n",
       "      <td>0.813333</td>\n",
       "      <td>0.787380</td>\n",
       "    </tr>\n",
       "    <tr>\n",
       "      <th>6</th>\n",
       "      <td>Majority Voting</td>\n",
       "      <td>3</td>\n",
       "      <td>2.0</td>\n",
       "      <td>0.946667</td>\n",
       "      <td>0.946330</td>\n",
       "    </tr>\n",
       "    <tr>\n",
       "      <th>7</th>\n",
       "      <td>Majority Voting</td>\n",
       "      <td>5</td>\n",
       "      <td>2.0</td>\n",
       "      <td>0.946667</td>\n",
       "      <td>0.946263</td>\n",
       "    </tr>\n",
       "  </tbody>\n",
       "</table>\n",
       "</div>"
      ],
      "text/plain": [
       "           model_name  num_estimators  fold  balanced_accuracy        f1\n",
       "0     Average Beliefs               3   2.0           0.960000  0.959596\n",
       "1     Average Beliefs               5   2.0           0.960000  0.959697\n",
       "2      Baseline Model               3   2.0           0.960000  0.959697\n",
       "3      Baseline Model               5   2.0           0.960000  0.959697\n",
       "4  Bayesian Inference               3   2.0           0.953333  0.952604\n",
       "5  Bayesian Inference               5   2.0           0.813333  0.787380\n",
       "6     Majority Voting               3   2.0           0.946667  0.946330\n",
       "7     Majority Voting               5   2.0           0.946667  0.946263"
      ]
     },
     "execution_count": 16,
     "metadata": {},
     "output_type": "execute_result"
    }
   ],
   "source": [
    "df"
   ]
  },
  {
   "cell_type": "code",
   "execution_count": 17,
   "metadata": {},
   "outputs": [
    {
     "data": {
      "text/plain": [
       "Text(0, 0.5, 'F1-Score')"
      ]
     },
     "execution_count": 17,
     "metadata": {},
     "output_type": "execute_result"
    },
    {
     "data": {
      "image/png": "[encoded data removed]",
      "text/plain": [
       "<Figure size 1440x1080 with 1 Axes>"
      ]
     },
     "metadata": {
      "needs_background": "light"
     },
     "output_type": "display_data"
    }
   ],
   "source": [
    "plt.figure(figsize=(20, 15))\n",
    "ax = sns.barplot(data=df, x='model_name', y='f1', hue='num_estimators')\n",
    "for container in ax.containers:\n",
    "    ax.bar_label(container, fmt='%.3f')\n",
    "plt.ylim(0, 1)\n",
    "plt.title('Weighted F1-score  achieved by each estimator and different no.estimators', fontdict=dict(size=20))\n",
    "plt.xlabel('Estimator', fontdict=dict(size=16))\n",
    "plt.ylabel('F1-Score', fontdict=dict(size=16))"
   ]
  }
 ],
 "metadata": {
  "kernelspec": {
   "display_name": "aca",
   "language": "python",
   "name": "aca"
  },
  "language_info": {
   "codemirror_mode": {
    "name": "ipython",
    "version": 3
   },
   "file_extension": ".py",
   "mimetype": "text/x-python",
   "name": "python",
   "nbconvert_exporter": "python",
   "pygments_lexer": "ipython3",
   "version": "3.10.4"
  },
  "orig_nbformat": 4
 },
 "nbformat": 4,
 "nbformat_minor": 2
}
