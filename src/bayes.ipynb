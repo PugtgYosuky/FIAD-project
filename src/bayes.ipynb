{
 "cells": [
  {
   "cell_type": "code",
   "execution_count": 1,
   "metadata": {},
   "outputs": [],
   "source": [
    "from sklearn.datasets import load_wine\n",
    "import numpy as np\n",
    "from sklearn.model_selection import train_test_split\n",
    "import pandas as pd\n",
    "import os\n",
    "from scipy.stats import norm\n",
    "from sklearn.naive_bayes import GaussianNB\n",
    "from sklearn import metrics\n",
    "from sklearn.model_selection import StratifiedKFold\n",
    "from scipy import stats\n",
    "from sklearn.cluster import KMeans\n",
    "\n",
    "\n",
    "import warnings\n",
    "warnings.filterwarnings(\"ignore\")"
   ]
  },
  {
   "cell_type": "code",
   "execution_count": 2,
   "metadata": {},
   "outputs": [],
   "source": [
    "class SplitData:\n",
    "    def __init__(self, n_estimators, type_split, random_size=None):\n",
    "        self.dataset_indexes = []\n",
    "        self.n_estimators = n_estimators\n",
    "        self.type_split = type_split\n",
    "        self.random_size = random_size\n",
    "\n",
    "\n",
    "    def split_data(self, X, y=None):\n",
    "        if self.type_split == 1:\n",
    "            return self.split_regions(X)\n",
    "        elif self.type_split == 2:\n",
    "            return self.split_stratify(X, y)\n",
    "        else:\n",
    "            # random split\n",
    "            return self.split_random(X)\n",
    "        \n",
    "\n",
    "    def split_regions(self, X):\n",
    "        kmeans = KMeans(n_clusters=self.n_estimators)\n",
    "        kmeans.fit(X)\n",
    "\n",
    "        for i in range(self.n_estimators):\n",
    "            self.dataset_indexes.append(kmeans.labels_ == i)\n",
    "        return self.dataset_indexes\n",
    "    \n",
    "\n",
    "    def split_stratify(self, X, y):\n",
    "        kfold = StratifiedKFold(n_splits=self.n_estimators, shuffle=True)\n",
    "        indexes = np.arange(len(X))\n",
    "        for _, test_indexes in kfold.split(X, y):\n",
    "            sample = np.isin(indexes, test_indexes)\n",
    "            self.dataset_indexes.append(sample)\n",
    "        return self.dataset_indexes\n",
    "    \n",
    "    \n",
    "    def split_random(self, X):\n",
    "        indexes = np.arange(len(X))\n",
    "\n",
    "        if self.random_size is None:\n",
    "            self.random_size = 1/self.n_estimators\n",
    "\n",
    "        size = int(self.random_size * len(X))\n",
    "        for i in range(self.n_estimators):\n",
    "            sample_indexes = np.random.choice(indexes, size)\n",
    "\n",
    "            sample = np.isin(indexes, sample_indexes)\n",
    "            self.dataset_indexes.append(sample)\n",
    "        return self.dataset_indexes"
   ]
  },
  {
   "cell_type": "code",
   "execution_count": 3,
   "metadata": {},
   "outputs": [],
   "source": [
    "def print_metrics(y_test, preds):\n",
    "    print('Balanced accuracy: ', metrics.balanced_accuracy_score(y_test, preds))\n",
    "    print('F1 Weighted', metrics.f1_score(y_test, preds, average='weighted'))\n",
    "    # print(metrics.classification_report(y_test, preds))"
   ]
  },
  {
   "cell_type": "code",
   "execution_count": 4,
   "metadata": {},
   "outputs": [],
   "source": [
    "# X, y = load_wine(return_X_y=True, as_frame=True)"
   ]
  },
  {
   "cell_type": "code",
   "execution_count": 5,
   "metadata": {},
   "outputs": [],
   "source": [
    "cols = [f'X{i+1}' for i in range(9)]\n",
    "cols = cols + ['TARGET']"
   ]
  },
  {
   "cell_type": "code",
   "execution_count": 6,
   "metadata": {},
   "outputs": [],
   "source": [
    "data = pd.DataFrame(np.genfromtxt(os.path.join('data','DATA.txt')), columns=cols)"
   ]
  },
  {
   "cell_type": "code",
   "execution_count": 7,
   "metadata": {},
   "outputs": [],
   "source": [
    "X = data.copy()"
   ]
  },
  {
   "cell_type": "code",
   "execution_count": 8,
   "metadata": {},
   "outputs": [],
   "source": [
    "y = X.pop('TARGET')"
   ]
  },
  {
   "cell_type": "code",
   "execution_count": 9,
   "metadata": {},
   "outputs": [],
   "source": [
    "x_train, x_test, y_train, y_test = train_test_split(X, y, shuffle=True, stratify=y, random_state=172312873)"
   ]
  },
  {
   "cell_type": "code",
   "execution_count": 10,
   "metadata": {},
   "outputs": [],
   "source": [
    "number_estimators = 3\n",
    "type_split = 1"
   ]
  },
  {
   "cell_type": "code",
   "execution_count": 11,
   "metadata": {},
   "outputs": [],
   "source": [
    "class BayesClassifier:\n",
    "    def __init__(self, classes, for_ensemble=False):\n",
    "        self.classes = classes\n",
    "        self.for_ensemble = for_ensemble\n",
    "        self.numeric_probs = pd.DataFrame()\n",
    "        var_class = []\n",
    "        stats = []\n",
    "        for class_name in self.classes:\n",
    "            var_class.append(class_name)\n",
    "            var_class.append(class_name)\n",
    "            stats.append('mean')\n",
    "            stats.append('std')\n",
    "        self.numeric_probs['class_name'] = var_class\n",
    "        self.numeric_probs['stats'] = stats\n",
    "        \n",
    "\n",
    "\n",
    "    def fit(self, X, y):\n",
    "        \"\"\" receives a pandas dataframe \"\"\"\n",
    "\n",
    "        # calculate classes probabilities\n",
    "        self.class_probs = pd.DataFrame(y.value_counts() / len(y)).T\n",
    "\n",
    "        # divides the feature in numeric and categorical\n",
    "        self.numeric_features = X.select_dtypes(include=np.number).columns.to_list()\n",
    "        self.categorical_features = [feature for feature in X.columns if feature not in self.numeric_features]\n",
    "        X = X.copy()\n",
    "        X['target'] = y\n",
    "\n",
    "        # for numeric features\n",
    "        for feature in self.numeric_features:\n",
    "            self.numeric_probs[feature] = 0.0\n",
    "            for class_name in self.classes:\n",
    "                self.numeric_probs.loc[\n",
    "                    (self.numeric_probs.class_name == class_name) & \n",
    "                    (self.numeric_probs.stats == 'mean' ), feature\n",
    "                    ] = X.loc[X.target == class_name, feature].mean()\n",
    "                # get the stds\n",
    "                self.numeric_probs.loc[\n",
    "                    (self.numeric_probs.class_name == class_name) & \n",
    "                    (self.numeric_probs.stats == 'std' ), feature\n",
    "                    ] = X.loc[X.target == class_name, feature].std()\n",
    "\n",
    "        # for categorical features\n",
    "        self.classes_counts = pd.DataFrame(y.value_counts()).T\n",
    "        self.categorical_probs = {}\n",
    "\n",
    "        # TODO: add laplacian correction for categorical features\n",
    "        for feature in X.columns:\n",
    "            probs = pd.DataFrame(index=self.classes)\n",
    "            for value in X[feature].unique():\n",
    "                probs[value] = 0.000001\n",
    "                for class_name in self.classes:\n",
    "                    conditional_prob = len(X.loc[(y == class_name) & (X[feature] == value)]) / self.classes_counts[class_name].values[0]\n",
    "                    probs.loc[class_name, value] = conditional_prob\n",
    "            self.categorical_probs[feature] = probs\n",
    "\n",
    "\n",
    "\n",
    "    def _predict_row(self, X):  \n",
    "        predicted_probs = pd.DataFrame()\n",
    "        for class_name in self.classes:\n",
    "            # print('Class', class_name)\n",
    "            prob = 1\n",
    "            # numeric features\n",
    "            for feature in self.numeric_features:\n",
    "                mean = self.numeric_probs.loc[(self.numeric_probs.class_name == class_name) & \n",
    "                                              (self.numeric_probs.stats == 'mean'), feature]\n",
    "                std = self.numeric_probs.loc[(self.numeric_probs.class_name == class_name) & \n",
    "                                              (self.numeric_probs.stats == 'std'), feature]\n",
    "                aux_prob = norm.pdf(X[feature], mean, std)\n",
    "                prob *= aux_prob\n",
    "                # print(feature, aux_prob)\n",
    "            # categorical features\n",
    "            for feature in self.categorical_features:\n",
    "                aux_probs = self.categorical_probs[feature][X[feature]].T\n",
    "                # print(feature, aux_probs)\n",
    "                prob *= aux_probs[class_name].values\n",
    "\n",
    "            # print(prob)\n",
    "            if not self.for_ensemble:\n",
    "                prob *= self.class_probs[class_name].values[0]\n",
    "            predicted_probs[class_name] = prob\n",
    "        \n",
    "        # softmax normalization\n",
    "        if self.for_ensemble == False:\n",
    "            self.predicted_probs = predicted_probs.apply(self.softmax_norm, axis=1)\n",
    "        return predicted_probs\n",
    "\n",
    "    def softmax_norm(self, X):\n",
    "        return X / X.sum()\n",
    "        \n",
    "    def predict_proba(self, X):\n",
    "        return self._predict_row(X)\n",
    "\n",
    "    def predict(self, X):\n",
    "        return self._predict_row(X).idxmax(axis=1)\n"
   ]
  },
  {
   "cell_type": "code",
   "execution_count": 12,
   "metadata": {},
   "outputs": [],
   "source": [
    "class BayesEnsemblePredictions:\n",
    "    def __init__(self, dataset, classes_probs):\n",
    "        self.dataset = dataset\n",
    "        self.classifiers = []\n",
    "        self.classes_list = list(classes_probs.index)\n",
    "        self.classes_probs = classes_probs\n",
    "\n",
    "    def fit(self):\n",
    "        for x_train, y_train in self.dataset:\n",
    "            classifier = BayesClassifier(self.classes_list)\n",
    "            classifier.fit(x_train, y_train)\n",
    "            self.classifiers.append(classifier)\n",
    "\n",
    "\n",
    "    def _predict_data(self, X):\n",
    "        predictions = np.ones((len(X), len(self.classes_probs.index)))\n",
    "        predictions *= self.classes_probs.to_numpy()\n",
    "        save_preds = []\n",
    "\n",
    "        for classifier in self.classifiers:\n",
    "            # multiply the probability of the different estimators\n",
    "            preds = classifier.predict_proba(X)\n",
    "            save_preds.append(preds)\n",
    "            predictions *= preds\n",
    "\n",
    "        predictions.apply(self.softmax_norm, axis=1)\n",
    "        return predictions\n",
    "    \n",
    "    def predict(self, X):\n",
    "        return self._predict_data(X).idxmax(axis=1)\n",
    "        \n",
    "    def predict_proba(self, X):\n",
    "        return self._predict_data(X)\n",
    "\n",
    "    def softmax_norm(self, X):\n",
    "        return X / X.sum()"
   ]
  },
  {
   "cell_type": "code",
   "execution_count": 13,
   "metadata": {},
   "outputs": [
    {
     "name": "stdout",
     "output_type": "stream",
     "text": [
      "Balanced accuracy:  0.7563492063492063\n",
      "F1 Weighted 0.7875403542448304\n",
      "Balanced accuracy:  0.8492063492063492\n",
      "F1 Weighted 0.867170545536182\n",
      "Balanced accuracy:  0.719047619047619\n",
      "F1 Weighted 0.7309462511214154\n"
     ]
    }
   ],
   "source": [
    "predictions = []\n",
    "predictions_probs = []\n",
    "classifiers = []\n",
    "\n",
    "dataset = []\n",
    "split_model = SplitData(n_estimators=number_estimators, type_split=type_split)\n",
    "for i, indexes in enumerate(split_model.split_data(x_train, y_train)):\n",
    "    # sample data\n",
    "    x_aux = x_train[indexes]\n",
    "    y_aux = y_train[indexes]\n",
    "    #save for ensemble\n",
    "    dataset.append([x_aux, y_aux])\n",
    "\n",
    "    classifier = BayesClassifier(list(y_train.unique()))\n",
    "    classifier.fit(x_aux, y_aux)\n",
    "    preds = classifier.predict(x_test)\n",
    "    print_metrics(y_test, preds)    \n",
    "    classifiers.append(classifier)\n",
    "    predictions.append(preds)\n",
    "    predictions_probs.append(classifier.predict_proba(x_test))"
   ]
  },
  {
   "attachments": {},
   "cell_type": "markdown",
   "metadata": {},
   "source": [
    "## Majority Voting"
   ]
  },
  {
   "cell_type": "code",
   "execution_count": 14,
   "metadata": {},
   "outputs": [
    {
     "name": "stdout",
     "output_type": "stream",
     "text": [
      "Balanced accuracy:  0.8047619047619048\n",
      "F1 Weighted 0.8292979840870075\n"
     ]
    }
   ],
   "source": [
    "predictions = np.array(predictions) \n",
    "majority_preds = stats.mode(predictions, axis=0).mode.T\n",
    "print_metrics(y_test, majority_preds)"
   ]
  },
  {
   "attachments": {},
   "cell_type": "markdown",
   "metadata": {},
   "source": [
    "## Baseline optimizer"
   ]
  },
  {
   "cell_type": "code",
   "execution_count": 15,
   "metadata": {},
   "outputs": [],
   "source": [
    "baseline_classifier = BayesClassifier(list(y_train.unique()))"
   ]
  },
  {
   "cell_type": "code",
   "execution_count": 16,
   "metadata": {},
   "outputs": [],
   "source": [
    "baseline_classifier.fit(x_train, y_train)\n",
    "preds = baseline_classifier.predict(x_test)"
   ]
  },
  {
   "cell_type": "code",
   "execution_count": 17,
   "metadata": {},
   "outputs": [
    {
     "name": "stdout",
     "output_type": "stream",
     "text": [
      "Balanced accuracy:  0.7896825396825398\n",
      "F1 Weighted 0.8179737882255045\n"
     ]
    }
   ],
   "source": [
    "print_metrics(y_test, preds)"
   ]
  },
  {
   "attachments": {},
   "cell_type": "markdown",
   "metadata": {},
   "source": [
    "## Ensemble Bayes"
   ]
  },
  {
   "cell_type": "code",
   "execution_count": 18,
   "metadata": {},
   "outputs": [
    {
     "data": {
      "text/plain": [
       "TARGET\n",
       "0.0    208\n",
       "1.0    134\n",
       "Name: count, dtype: int64"
      ]
     },
     "execution_count": 18,
     "metadata": {},
     "output_type": "execute_result"
    }
   ],
   "source": [
    "# calculate probability\n",
    "value_counts = y_train.value_counts()\n",
    "value_counts"
   ]
  },
  {
   "cell_type": "code",
   "execution_count": 19,
   "metadata": {},
   "outputs": [],
   "source": [
    "probs_classes = value_counts / len(y_train)"
   ]
  },
  {
   "cell_type": "code",
   "execution_count": 20,
   "metadata": {},
   "outputs": [],
   "source": [
    "ensemble_model = BayesEnsemblePredictions(dataset, probs_classes)"
   ]
  },
  {
   "cell_type": "code",
   "execution_count": 21,
   "metadata": {},
   "outputs": [],
   "source": [
    "ensemble_model.fit()"
   ]
  },
  {
   "cell_type": "code",
   "execution_count": 22,
   "metadata": {},
   "outputs": [],
   "source": [
    "ensemble_preds = ensemble_model.predict(x_test)"
   ]
  },
  {
   "cell_type": "code",
   "execution_count": 23,
   "metadata": {},
   "outputs": [
    {
     "name": "stdout",
     "output_type": "stream",
     "text": [
      "Balanced accuracy:  0.7865079365079366\n",
      "F1 Weighted 0.8113293508330084\n"
     ]
    }
   ],
   "source": [
    "print_metrics(y_test, ensemble_preds)"
   ]
  },
  {
   "attachments": {},
   "cell_type": "markdown",
   "metadata": {},
   "source": [
    "## Test from classes data"
   ]
  },
  {
   "cell_type": "code",
   "execution_count": 24,
   "metadata": {},
   "outputs": [],
   "source": [
    "data = pd.read_csv(os.path.join('data', 'foot_size.csv'))\n",
    "y = data.pop('GENDER')"
   ]
  },
  {
   "cell_type": "code",
   "execution_count": 25,
   "metadata": {},
   "outputs": [],
   "source": [
    "model = BayesClassifier(list(y.unique()))"
   ]
  },
  {
   "cell_type": "code",
   "execution_count": 26,
   "metadata": {},
   "outputs": [],
   "source": [
    "model.fit(data, y)"
   ]
  },
  {
   "cell_type": "code",
   "execution_count": 27,
   "metadata": {},
   "outputs": [
    {
     "data": {
      "text/html": [
       "<div>\n",
       "<style scoped>\n",
       "    .dataframe tbody tr th:only-of-type {\n",
       "        vertical-align: middle;\n",
       "    }\n",
       "\n",
       "    .dataframe tbody tr th {\n",
       "        vertical-align: top;\n",
       "    }\n",
       "\n",
       "    .dataframe thead th {\n",
       "        text-align: right;\n",
       "    }\n",
       "</style>\n",
       "<table border=\"1\" class=\"dataframe\">\n",
       "  <thead>\n",
       "    <tr style=\"text-align: right;\">\n",
       "      <th></th>\n",
       "      <th>class_name</th>\n",
       "      <th>stats</th>\n",
       "      <th>HEIGHT (cm)</th>\n",
       "      <th>WEIGHT (kg)</th>\n",
       "      <th>FOOT SIZE (CM)</th>\n",
       "    </tr>\n",
       "  </thead>\n",
       "  <tbody>\n",
       "    <tr>\n",
       "      <th>0</th>\n",
       "      <td>1</td>\n",
       "      <td>mean</td>\n",
       "      <td>178.457500</td>\n",
       "      <td>77.667500</td>\n",
       "      <td>42.862500</td>\n",
       "    </tr>\n",
       "    <tr>\n",
       "      <th>1</th>\n",
       "      <td>1</td>\n",
       "      <td>std</td>\n",
       "      <td>5.708744</td>\n",
       "      <td>8.759450</td>\n",
       "      <td>3.647797</td>\n",
       "    </tr>\n",
       "    <tr>\n",
       "      <th>2</th>\n",
       "      <td>0</td>\n",
       "      <td>mean</td>\n",
       "      <td>168.782500</td>\n",
       "      <td>58.957500</td>\n",
       "      <td>36.477500</td>\n",
       "    </tr>\n",
       "    <tr>\n",
       "      <th>3</th>\n",
       "      <td>0</td>\n",
       "      <td>std</td>\n",
       "      <td>12.023545</td>\n",
       "      <td>9.798263</td>\n",
       "      <td>1.656007</td>\n",
       "    </tr>\n",
       "  </tbody>\n",
       "</table>\n",
       "</div>"
      ],
      "text/plain": [
       "   class_name stats  HEIGHT (cm)  WEIGHT (kg)  FOOT SIZE (CM)\n",
       "0           1  mean   178.457500    77.667500       42.862500\n",
       "1           1   std     5.708744     8.759450        3.647797\n",
       "2           0  mean   168.782500    58.957500       36.477500\n",
       "3           0   std    12.023545     9.798263        1.656007"
      ]
     },
     "execution_count": 27,
     "metadata": {},
     "output_type": "execute_result"
    }
   ],
   "source": [
    "model.numeric_probs"
   ]
  },
  {
   "cell_type": "code",
   "execution_count": 28,
   "metadata": {},
   "outputs": [],
   "source": [
    "test = pd.DataFrame()\n",
    "test['HEIGHT (cm)'] = [175]\n",
    "test['WEIGHT (kg)'] = 75\n",
    "test['FOOT SIZE (CM)'] = 38"
   ]
  },
  {
   "cell_type": "code",
   "execution_count": 29,
   "metadata": {},
   "outputs": [
    {
     "data": {
      "text/html": [
       "<div>\n",
       "<style scoped>\n",
       "    .dataframe tbody tr th:only-of-type {\n",
       "        vertical-align: middle;\n",
       "    }\n",
       "\n",
       "    .dataframe tbody tr th {\n",
       "        vertical-align: top;\n",
       "    }\n",
       "\n",
       "    .dataframe thead th {\n",
       "        text-align: right;\n",
       "    }\n",
       "</style>\n",
       "<table border=\"1\" class=\"dataframe\">\n",
       "  <thead>\n",
       "    <tr style=\"text-align: right;\">\n",
       "      <th></th>\n",
       "      <th>HEIGHT (cm)</th>\n",
       "      <th>WEIGHT (kg)</th>\n",
       "      <th>FOOT SIZE (CM)</th>\n",
       "    </tr>\n",
       "  </thead>\n",
       "  <tbody>\n",
       "    <tr>\n",
       "      <th>0</th>\n",
       "      <td>175</td>\n",
       "      <td>75</td>\n",
       "      <td>38</td>\n",
       "    </tr>\n",
       "  </tbody>\n",
       "</table>\n",
       "</div>"
      ],
      "text/plain": [
       "   HEIGHT (cm)  WEIGHT (kg)  FOOT SIZE (CM)\n",
       "0          175           75              38"
      ]
     },
     "execution_count": 29,
     "metadata": {},
     "output_type": "execute_result"
    }
   ],
   "source": [
    "test"
   ]
  },
  {
   "cell_type": "code",
   "execution_count": 30,
   "metadata": {},
   "outputs": [
    {
     "data": {
      "text/html": [
       "<div>\n",
       "<style scoped>\n",
       "    .dataframe tbody tr th:only-of-type {\n",
       "        vertical-align: middle;\n",
       "    }\n",
       "\n",
       "    .dataframe tbody tr th {\n",
       "        vertical-align: top;\n",
       "    }\n",
       "\n",
       "    .dataframe thead th {\n",
       "        text-align: right;\n",
       "    }\n",
       "</style>\n",
       "<table border=\"1\" class=\"dataframe\">\n",
       "  <thead>\n",
       "    <tr style=\"text-align: right;\">\n",
       "      <th></th>\n",
       "      <th>1</th>\n",
       "      <th>0</th>\n",
       "    </tr>\n",
       "  </thead>\n",
       "  <tbody>\n",
       "    <tr>\n",
       "      <th>0</th>\n",
       "      <td>0.000057</td>\n",
       "      <td>0.000024</td>\n",
       "    </tr>\n",
       "  </tbody>\n",
       "</table>\n",
       "</div>"
      ],
      "text/plain": [
       "          1         0\n",
       "0  0.000057  0.000024"
      ]
     },
     "execution_count": 30,
     "metadata": {},
     "output_type": "execute_result"
    }
   ],
   "source": [
    "model.predict_proba(test)"
   ]
  }
 ],
 "metadata": {
  "kernelspec": {
   "display_name": "aca",
   "language": "python",
   "name": "aca"
  },
  "language_info": {
   "codemirror_mode": {
    "name": "ipython",
    "version": 3
   },
   "file_extension": ".py",
   "mimetype": "text/x-python",
   "name": "python",
   "nbconvert_exporter": "python",
   "pygments_lexer": "ipython3",
   "version": "3.10.4"
  },
  "orig_nbformat": 4
 },
 "nbformat": 4,
 "nbformat_minor": 2
}
