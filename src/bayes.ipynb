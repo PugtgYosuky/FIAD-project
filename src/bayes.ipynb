{
 "cells": [
  {
   "cell_type": "code",
   "execution_count": 848,
   "metadata": {},
   "outputs": [],
   "source": [
    "from sklearn.datasets import load_wine\n",
    "import numpy as np\n",
    "from sklearn.model_selection import train_test_split\n",
    "import pandas as pd\n",
    "import os\n",
    "from scipy.stats import norm\n",
    "from sklearn.naive_bayes import GaussianNB"
   ]
  },
  {
   "cell_type": "code",
   "execution_count": 849,
   "metadata": {},
   "outputs": [],
   "source": [
    "# X, y = load_wine(return_X_y=True, as_frame=True)"
   ]
  },
  {
   "cell_type": "code",
   "execution_count": 850,
   "metadata": {},
   "outputs": [],
   "source": [
    "data = pd.read_csv(os.path.join('data', 'computers.csv'))"
   ]
  },
  {
   "cell_type": "code",
   "execution_count": 851,
   "metadata": {},
   "outputs": [],
   "source": [
    "for col in data:\n",
    "    data[col] = data[col].str.title()"
   ]
  },
  {
   "cell_type": "code",
   "execution_count": 852,
   "metadata": {},
   "outputs": [],
   "source": [
    "X = data.copy()\n",
    "y = X.pop('BUY')"
   ]
  },
  {
   "cell_type": "code",
   "execution_count": 853,
   "metadata": {},
   "outputs": [],
   "source": [
    "x_train, x_test, y_train, y_test = train_test_split(X, y)"
   ]
  },
  {
   "cell_type": "code",
   "execution_count": 906,
   "metadata": {},
   "outputs": [],
   "source": [
    "class BayesClassifier:\n",
    "    def __init__(self, classes):\n",
    "        self.classes = classes\n",
    "        self.numeric_probs = pd.DataFrame()\n",
    "        var_class = []\n",
    "        stats = []\n",
    "        for class_name in self.classes:\n",
    "            var_class.append(class_name)\n",
    "            var_class.append(class_name)\n",
    "            stats.append('mean')\n",
    "            stats.append('std')\n",
    "        self.numeric_probs['class_name'] = var_class\n",
    "        self.numeric_probs['stats'] = stats\n",
    "\n",
    "\n",
    "    def fit(self, X, y):\n",
    "        \"\"\" receives a pandas dataframe \"\"\"\n",
    "\n",
    "        # calculate classes probabilities\n",
    "        self.class_probs = pd.DataFrame(y.value_counts() / len(y)).T\n",
    "\n",
    "        # divides the feature in numeric and categorical\n",
    "        self.numeric_features = X.select_dtypes(include=np.number).columns.to_list()\n",
    "        self.categorical_features = [feature for feature in X.columns if feature not in self.numeric_features]\n",
    "        X = X.copy()\n",
    "        X['target'] = y\n",
    "\n",
    "        # for numeric features\n",
    "        for feature in self.numeric_features:\n",
    "            self.numeric_probs[feature] = 0.0\n",
    "            for class_name in self.classes:\n",
    "                self.numeric_probs.loc[\n",
    "                    (self.numeric_probs.class_name == class_name) & \n",
    "                    (self.numeric_probs.stats == 'mean' ), feature\n",
    "                    ] = X.loc[X.target == class_name, feature].mean()\n",
    "                # get the stds\n",
    "                self.numeric_probs.loc[\n",
    "                    (self.numeric_probs.class_name == class_name) & \n",
    "                    (self.numeric_probs.stats == 'std' ), feature\n",
    "                    ] = X.loc[X.target == class_name, feature].std()\n",
    "\n",
    "        # for categorical features\n",
    "        self.classes_counts = pd.DataFrame(y.value_counts()).T\n",
    "        self.categorical_probs = {}\n",
    "\n",
    "        for feature in X.columns:\n",
    "            probs = pd.DataFrame(index=self.classes)\n",
    "            for value in X[feature].unique():\n",
    "                probs[value] = 0.000001\n",
    "                for class_name in self.classes:\n",
    "                    conditional_prob = len(X.loc[(y == class_name) & (X[feature] == value)]) / self.classes_counts[class_name].values[0]\n",
    "                    probs.loc[class_name, value] = conditional_prob\n",
    "            self.categorical_probs[feature] = probs\n",
    "\n",
    "\n",
    "\n",
    "    def _predict_row(self, X):  \n",
    "        predicted_probs = pd.DataFrame()\n",
    "        for class_name in self.classes:\n",
    "            prob = self.class_probs[class_name].values[0]\n",
    "            # numeric features\n",
    "            for feature in self.numeric_features:\n",
    "                mean = self.numeric_probs.loc[(self.numeric_probs.class_name == class_name) & \n",
    "                                              (self.numeric_probs.stats == 'mean'), feature]\n",
    "                std = self.numeric_probs.loc[(self.numeric_probs.class_name == class_name) & \n",
    "                                              (self.numeric_probs.stats == 'std'), feature]\n",
    "                prob *= norm.pdf(X[feature], mean, std)\n",
    "            # categorical features\n",
    "            for feature in self.categorical_features:\n",
    "                aux_probs = self.categorical_probs[feature][X[feature]].T\n",
    "                print(aux_probs[class_name].values)\n",
    "                prob *= aux_probs[class_name].values\n",
    "\n",
    "            predicted_probs[class_name] = prob\n",
    "        \n",
    "        print(predicted_probs)\n",
    "        # softmax normalization\n",
    "        self.predicted_probs = predicted_probs.apply(self.softmax_norm, axis=1)\n",
    "        return predicted_probs\n",
    "\n",
    "    def softmax_norm(self, X):\n",
    "        return X / X.sum()\n",
    "        \n",
    "    def predict_proba(self, X):\n",
    "        return self._predict_row(X)\n",
    "\n",
    "    def predict(self, X):\n",
    "        return self._predict_row(X).idxmax(axis=1)\n"
   ]
  },
  {
   "cell_type": "code",
   "execution_count": 907,
   "metadata": {},
   "outputs": [],
   "source": [
    "classifier = BayesClassifier(list(y.unique()))"
   ]
  },
  {
   "cell_type": "code",
   "execution_count": 908,
   "metadata": {},
   "outputs": [],
   "source": [
    "classifier.fit(x_train, y_train)"
   ]
  },
  {
   "cell_type": "code",
   "execution_count": 857,
   "metadata": {},
   "outputs": [],
   "source": [
    "test = pd.DataFrame()\n",
    "test['age'] = ['Youth']\n",
    "test['income'] = ['Medium']\n",
    "test['student'] = ['Yes']\n",
    "test['credit'] = ['Fair']"
   ]
  },
  {
   "cell_type": "code",
   "execution_count": 858,
   "metadata": {},
   "outputs": [
    {
     "data": {
      "text/html": [
       "<div>\n",
       "<style scoped>\n",
       "    .dataframe tbody tr th:only-of-type {\n",
       "        vertical-align: middle;\n",
       "    }\n",
       "\n",
       "    .dataframe tbody tr th {\n",
       "        vertical-align: top;\n",
       "    }\n",
       "\n",
       "    .dataframe thead th {\n",
       "        text-align: right;\n",
       "    }\n",
       "</style>\n",
       "<table border=\"1\" class=\"dataframe\">\n",
       "  <thead>\n",
       "    <tr style=\"text-align: right;\">\n",
       "      <th></th>\n",
       "      <th>age</th>\n",
       "      <th>income</th>\n",
       "      <th>student</th>\n",
       "      <th>credit</th>\n",
       "    </tr>\n",
       "  </thead>\n",
       "  <tbody>\n",
       "    <tr>\n",
       "      <th>0</th>\n",
       "      <td>Youth</td>\n",
       "      <td>Medium</td>\n",
       "      <td>Yes</td>\n",
       "      <td>Fair</td>\n",
       "    </tr>\n",
       "  </tbody>\n",
       "</table>\n",
       "</div>"
      ],
      "text/plain": [
       "     age  income student credit\n",
       "0  Youth  Medium     Yes   Fair"
      ]
     },
     "execution_count": 858,
     "metadata": {},
     "output_type": "execute_result"
    }
   ],
   "source": [
    "test"
   ]
  },
  {
   "cell_type": "code",
   "execution_count": 909,
   "metadata": {},
   "outputs": [
    {
     "name": "stdout",
     "output_type": "stream",
     "text": [
      "[0.33333333 0.33333333 0.33333333 0.33333333]\n",
      "[0.33333333 0.33333333 0.33333333 0.33333333]\n",
      "[0.66666667 0.33333333 0.66666667 0.33333333]\n",
      "[0. 1. 0. 0.]\n",
      "[0. 0. 0. 0.]\n",
      "[0.42857143 0.42857143 0.28571429 0.28571429]\n",
      "[0.42857143 0.57142857 0.42857143 0.57142857]\n",
      "[0.71428571 0.28571429 0.71428571 0.71428571]\n",
      "         No  Yes\n",
      "0  0.000000  0.0\n",
      "1  0.011111  0.0\n",
      "2  0.000000  0.0\n",
      "3  0.000000  0.0\n"
     ]
    }
   ],
   "source": [
    "preds_bayes = classifier.predict(x_test)"
   ]
  },
  {
   "cell_type": "code",
   "execution_count": 910,
   "metadata": {},
   "outputs": [
    {
     "name": "stdout",
     "output_type": "stream",
     "text": [
      "[0.33333333 0.33333333 0.33333333 0.33333333]\n",
      "[0.33333333 0.33333333 0.33333333 0.33333333]\n",
      "[0.66666667 0.33333333 0.66666667 0.33333333]\n",
      "[0. 1. 0. 0.]\n",
      "[0. 0. 0. 0.]\n",
      "[0.42857143 0.42857143 0.28571429 0.28571429]\n",
      "[0.42857143 0.57142857 0.42857143 0.57142857]\n",
      "[0.71428571 0.28571429 0.71428571 0.71428571]\n",
      "         No  Yes\n",
      "0  0.000000  0.0\n",
      "1  0.011111  0.0\n",
      "2  0.000000  0.0\n",
      "3  0.000000  0.0\n"
     ]
    }
   ],
   "source": [
    "probs_predict = classifier.predict_proba(x_test)"
   ]
  },
  {
   "cell_type": "code",
   "execution_count": 911,
   "metadata": {},
   "outputs": [
    {
     "data": {
      "text/html": [
       "<div>\n",
       "<style scoped>\n",
       "    .dataframe tbody tr th:only-of-type {\n",
       "        vertical-align: middle;\n",
       "    }\n",
       "\n",
       "    .dataframe tbody tr th {\n",
       "        vertical-align: top;\n",
       "    }\n",
       "\n",
       "    .dataframe thead th {\n",
       "        text-align: right;\n",
       "    }\n",
       "</style>\n",
       "<table border=\"1\" class=\"dataframe\">\n",
       "  <thead>\n",
       "    <tr style=\"text-align: right;\">\n",
       "      <th></th>\n",
       "      <th>age</th>\n",
       "      <th>income</th>\n",
       "      <th>student</th>\n",
       "      <th>credit</th>\n",
       "    </tr>\n",
       "  </thead>\n",
       "  <tbody>\n",
       "    <tr>\n",
       "      <th>6</th>\n",
       "      <td>Middle-Aged</td>\n",
       "      <td>Low</td>\n",
       "      <td>Yes</td>\n",
       "      <td>Excellent</td>\n",
       "    </tr>\n",
       "    <tr>\n",
       "      <th>4</th>\n",
       "      <td>Senior</td>\n",
       "      <td>Low</td>\n",
       "      <td>Yes</td>\n",
       "      <td>Fair</td>\n",
       "    </tr>\n",
       "    <tr>\n",
       "      <th>3</th>\n",
       "      <td>Senior</td>\n",
       "      <td>Medium</td>\n",
       "      <td>No</td>\n",
       "      <td>Fair</td>\n",
       "    </tr>\n",
       "    <tr>\n",
       "      <th>5</th>\n",
       "      <td>Senior</td>\n",
       "      <td>Low</td>\n",
       "      <td>Yes</td>\n",
       "      <td>Excellent</td>\n",
       "    </tr>\n",
       "    <tr>\n",
       "      <th>13</th>\n",
       "      <td>Senior</td>\n",
       "      <td>Medium</td>\n",
       "      <td>No</td>\n",
       "      <td>Excellent</td>\n",
       "    </tr>\n",
       "    <tr>\n",
       "      <th>11</th>\n",
       "      <td>Middle-Aged</td>\n",
       "      <td>Medium</td>\n",
       "      <td>No</td>\n",
       "      <td>Excellent</td>\n",
       "    </tr>\n",
       "    <tr>\n",
       "      <th>2</th>\n",
       "      <td>Middle-Aged</td>\n",
       "      <td>High</td>\n",
       "      <td>No</td>\n",
       "      <td>Fair</td>\n",
       "    </tr>\n",
       "    <tr>\n",
       "      <th>12</th>\n",
       "      <td>Middle-Aged</td>\n",
       "      <td>High</td>\n",
       "      <td>Yes</td>\n",
       "      <td>Fair</td>\n",
       "    </tr>\n",
       "    <tr>\n",
       "      <th>9</th>\n",
       "      <td>Senior</td>\n",
       "      <td>Medium</td>\n",
       "      <td>Yes</td>\n",
       "      <td>Fair</td>\n",
       "    </tr>\n",
       "    <tr>\n",
       "      <th>1</th>\n",
       "      <td>Youth</td>\n",
       "      <td>High</td>\n",
       "      <td>No</td>\n",
       "      <td>Excellent</td>\n",
       "    </tr>\n",
       "  </tbody>\n",
       "</table>\n",
       "</div>"
      ],
      "text/plain": [
       "            age  income student     credit\n",
       "6   Middle-Aged     Low     Yes  Excellent\n",
       "4        Senior     Low     Yes       Fair\n",
       "3        Senior  Medium      No       Fair\n",
       "5        Senior     Low     Yes  Excellent\n",
       "13       Senior  Medium      No  Excellent\n",
       "11  Middle-Aged  Medium      No  Excellent\n",
       "2   Middle-Aged    High      No       Fair\n",
       "12  Middle-Aged    High     Yes       Fair\n",
       "9        Senior  Medium     Yes       Fair\n",
       "1         Youth    High      No  Excellent"
      ]
     },
     "execution_count": 911,
     "metadata": {},
     "output_type": "execute_result"
    }
   ],
   "source": [
    "x_train"
   ]
  },
  {
   "cell_type": "code",
   "execution_count": 912,
   "metadata": {},
   "outputs": [
    {
     "data": {
      "text/plain": [
       "6     Yes\n",
       "4     Yes\n",
       "3     Yes\n",
       "5      No\n",
       "13     No\n",
       "11    Yes\n",
       "2     Yes\n",
       "12    Yes\n",
       "9     Yes\n",
       "1      No\n",
       "Name: BUY, dtype: object"
      ]
     },
     "execution_count": 912,
     "metadata": {},
     "output_type": "execute_result"
    }
   ],
   "source": [
    "y_train"
   ]
  },
  {
   "cell_type": "code",
   "execution_count": 913,
   "metadata": {},
   "outputs": [
    {
     "data": {
      "text/html": [
       "<div>\n",
       "<style scoped>\n",
       "    .dataframe tbody tr th:only-of-type {\n",
       "        vertical-align: middle;\n",
       "    }\n",
       "\n",
       "    .dataframe tbody tr th {\n",
       "        vertical-align: top;\n",
       "    }\n",
       "\n",
       "    .dataframe thead th {\n",
       "        text-align: right;\n",
       "    }\n",
       "</style>\n",
       "<table border=\"1\" class=\"dataframe\">\n",
       "  <thead>\n",
       "    <tr style=\"text-align: right;\">\n",
       "      <th></th>\n",
       "      <th>age</th>\n",
       "      <th>income</th>\n",
       "      <th>student</th>\n",
       "      <th>credit</th>\n",
       "    </tr>\n",
       "  </thead>\n",
       "  <tbody>\n",
       "    <tr>\n",
       "      <th>7</th>\n",
       "      <td>Youth</td>\n",
       "      <td>Medium</td>\n",
       "      <td>No</td>\n",
       "      <td>Fair</td>\n",
       "    </tr>\n",
       "    <tr>\n",
       "      <th>10</th>\n",
       "      <td>Youth</td>\n",
       "      <td>Medium</td>\n",
       "      <td>Yes</td>\n",
       "      <td>Excellent</td>\n",
       "    </tr>\n",
       "    <tr>\n",
       "      <th>0</th>\n",
       "      <td>Youth</td>\n",
       "      <td>High</td>\n",
       "      <td>No</td>\n",
       "      <td>Fair</td>\n",
       "    </tr>\n",
       "    <tr>\n",
       "      <th>8</th>\n",
       "      <td>Youth</td>\n",
       "      <td>Low</td>\n",
       "      <td>Yes</td>\n",
       "      <td>Fair</td>\n",
       "    </tr>\n",
       "  </tbody>\n",
       "</table>\n",
       "</div>"
      ],
      "text/plain": [
       "      age  income student     credit\n",
       "7   Youth  Medium      No       Fair\n",
       "10  Youth  Medium     Yes  Excellent\n",
       "0   Youth    High      No       Fair\n",
       "8   Youth     Low     Yes       Fair"
      ]
     },
     "execution_count": 913,
     "metadata": {},
     "output_type": "execute_result"
    }
   ],
   "source": [
    "x_test"
   ]
  },
  {
   "cell_type": "code",
   "execution_count": 891,
   "metadata": {},
   "outputs": [
    {
     "data": {
      "text/plain": [
       "{'age':      Middle-Aged    Senior     Youth\n",
       " No      0.000000  0.666667  0.333333\n",
       " Yes     0.571429  0.428571  0.000000,\n",
       " 'income':           Low    Medium      High\n",
       " No   0.333333  0.333333  0.333333\n",
       " Yes  0.285714  0.428571  0.285714,\n",
       " 'student':           Yes        No\n",
       " No   0.333333  0.666667\n",
       " Yes  0.571429  0.428571,\n",
       " 'credit':      Excellent      Fair\n",
       " No    1.000000  0.000000\n",
       " Yes   0.285714  0.714286,\n",
       " 'target':      Yes   No\n",
       " No   0.0  1.0\n",
       " Yes  1.0  0.0}"
      ]
     },
     "execution_count": 891,
     "metadata": {},
     "output_type": "execute_result"
    }
   ],
   "source": [
    "classifier.categorical_probs"
   ]
  },
  {
   "cell_type": "code",
   "execution_count": 872,
   "metadata": {},
   "outputs": [
    {
     "data": {
      "text/html": [
       "<div>\n",
       "<style scoped>\n",
       "    .dataframe tbody tr th:only-of-type {\n",
       "        vertical-align: middle;\n",
       "    }\n",
       "\n",
       "    .dataframe tbody tr th {\n",
       "        vertical-align: top;\n",
       "    }\n",
       "\n",
       "    .dataframe thead th {\n",
       "        text-align: right;\n",
       "    }\n",
       "</style>\n",
       "<table border=\"1\" class=\"dataframe\">\n",
       "  <thead>\n",
       "    <tr style=\"text-align: right;\">\n",
       "      <th>BUY</th>\n",
       "      <th>Yes</th>\n",
       "      <th>No</th>\n",
       "    </tr>\n",
       "  </thead>\n",
       "  <tbody>\n",
       "    <tr>\n",
       "      <th>count</th>\n",
       "      <td>0.7</td>\n",
       "      <td>0.3</td>\n",
       "    </tr>\n",
       "  </tbody>\n",
       "</table>\n",
       "</div>"
      ],
      "text/plain": [
       "BUY    Yes   No\n",
       "count  0.7  0.3"
      ]
     },
     "execution_count": 872,
     "metadata": {},
     "output_type": "execute_result"
    }
   ],
   "source": [
    "classifier.class_probs"
   ]
  },
  {
   "cell_type": "code",
   "execution_count": 866,
   "metadata": {},
   "outputs": [
    {
     "data": {
      "text/html": [
       "<div>\n",
       "<style scoped>\n",
       "    .dataframe tbody tr th:only-of-type {\n",
       "        vertical-align: middle;\n",
       "    }\n",
       "\n",
       "    .dataframe tbody tr th {\n",
       "        vertical-align: top;\n",
       "    }\n",
       "\n",
       "    .dataframe thead th {\n",
       "        text-align: right;\n",
       "    }\n",
       "</style>\n",
       "<table border=\"1\" class=\"dataframe\">\n",
       "  <thead>\n",
       "    <tr style=\"text-align: right;\">\n",
       "      <th></th>\n",
       "      <th>class_name</th>\n",
       "      <th>stats</th>\n",
       "    </tr>\n",
       "  </thead>\n",
       "  <tbody>\n",
       "    <tr>\n",
       "      <th>0</th>\n",
       "      <td>No</td>\n",
       "      <td>mean</td>\n",
       "    </tr>\n",
       "    <tr>\n",
       "      <th>1</th>\n",
       "      <td>No</td>\n",
       "      <td>std</td>\n",
       "    </tr>\n",
       "    <tr>\n",
       "      <th>2</th>\n",
       "      <td>Yes</td>\n",
       "      <td>mean</td>\n",
       "    </tr>\n",
       "    <tr>\n",
       "      <th>3</th>\n",
       "      <td>Yes</td>\n",
       "      <td>std</td>\n",
       "    </tr>\n",
       "  </tbody>\n",
       "</table>\n",
       "</div>"
      ],
      "text/plain": [
       "  class_name stats\n",
       "0         No  mean\n",
       "1         No   std\n",
       "2        Yes  mean\n",
       "3        Yes   std"
      ]
     },
     "execution_count": 866,
     "metadata": {},
     "output_type": "execute_result"
    }
   ],
   "source": [
    "classifier.numeric_probs"
   ]
  },
  {
   "cell_type": "code",
   "execution_count": 914,
   "metadata": {},
   "outputs": [
    {
     "data": {
      "text/plain": [
       "0    No\n",
       "1    No\n",
       "2    No\n",
       "3    No\n",
       "dtype: object"
      ]
     },
     "execution_count": 914,
     "metadata": {},
     "output_type": "execute_result"
    }
   ],
   "source": [
    "preds_bayes"
   ]
  }
 ],
 "metadata": {
  "kernelspec": {
   "display_name": "aca",
   "language": "python",
   "name": "aca"
  },
  "language_info": {
   "codemirror_mode": {
    "name": "ipython",
    "version": 3
   },
   "file_extension": ".py",
   "mimetype": "text/x-python",
   "name": "python",
   "nbconvert_exporter": "python",
   "pygments_lexer": "ipython3",
   "version": "3.10.4"
  },
  "orig_nbformat": 4
 },
 "nbformat": 4,
 "nbformat_minor": 2
}
