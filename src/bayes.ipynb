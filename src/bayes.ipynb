{
 "cells": [
  {
   "cell_type": "code",
   "execution_count": 27,
   "metadata": {},
   "outputs": [],
   "source": [
    "from sklearn.datasets import load_wine\n",
    "import numpy as np\n",
    "from sklearn.model_selection import train_test_split\n",
    "import pandas as pd\n",
    "import os\n",
    "from scipy.stats import norm\n",
    "from sklearn.naive_bayes import GaussianNB"
   ]
  },
  {
   "cell_type": "code",
   "execution_count": 28,
   "metadata": {},
   "outputs": [],
   "source": [
    "# X, y = load_wine(return_X_y=True, as_frame=True)"
   ]
  },
  {
   "cell_type": "code",
   "execution_count": 29,
   "metadata": {},
   "outputs": [],
   "source": [
    "data = pd.read_csv(os.path.join('data', 'computers.csv'))"
   ]
  },
  {
   "cell_type": "code",
   "execution_count": 30,
   "metadata": {},
   "outputs": [],
   "source": [
    "for col in data:\n",
    "    data[col] = data[col].str.title()"
   ]
  },
  {
   "cell_type": "code",
   "execution_count": 31,
   "metadata": {},
   "outputs": [],
   "source": [
    "X = data.copy()\n",
    "y = X.pop('BUY')"
   ]
  },
  {
   "cell_type": "code",
   "execution_count": 32,
   "metadata": {},
   "outputs": [],
   "source": [
    "x_train, x_test, y_train, y_test = train_test_split(X, y)"
   ]
  },
  {
   "cell_type": "code",
   "execution_count": 33,
   "metadata": {},
   "outputs": [],
   "source": [
    "class BayesClassifier:\n",
    "    def __init__(self, classes):\n",
    "        self.classes = classes\n",
    "        self.numeric_probs = pd.DataFrame()\n",
    "        var_class = []\n",
    "        stats = []\n",
    "        for class_name in self.classes:\n",
    "            var_class.append(class_name)\n",
    "            var_class.append(class_name)\n",
    "            stats.append('mean')\n",
    "            stats.append('std')\n",
    "        self.numeric_probs['class_name'] = var_class\n",
    "        self.numeric_probs['stats'] = stats\n",
    "\n",
    "\n",
    "    def fit(self, X, y):\n",
    "        \"\"\" receives a pandas dataframe \"\"\"\n",
    "\n",
    "        # calculate classes probabilities\n",
    "        self.class_probs = pd.DataFrame(y.value_counts() / len(y)).T\n",
    "\n",
    "        # divides the feature in numeric and categorical\n",
    "        self.numeric_features = X.select_dtypes(include=np.number).columns.to_list()\n",
    "        self.categorical_features = [feature for feature in X.columns if feature not in self.numeric_features]\n",
    "        X = X.copy()\n",
    "        X['target'] = y\n",
    "\n",
    "        # for numeric features\n",
    "        for feature in self.numeric_features:\n",
    "            self.numeric_probs[feature] = 0.0\n",
    "            for class_name in self.classes:\n",
    "                self.numeric_probs.loc[\n",
    "                    (self.numeric_probs.class_name == class_name) & \n",
    "                    (self.numeric_probs.stats == 'mean' ), feature\n",
    "                    ] = X.loc[X.target == class_name, feature].mean()\n",
    "                # get the stds\n",
    "                self.numeric_probs.loc[\n",
    "                    (self.numeric_probs.class_name == class_name) & \n",
    "                    (self.numeric_probs.stats == 'std' ), feature\n",
    "                    ] = X.loc[X.target == class_name, feature].std()\n",
    "\n",
    "        # for categorical features\n",
    "        self.classes_counts = pd.DataFrame(y.value_counts()).T\n",
    "        self.categorical_probs = {}\n",
    "\n",
    "        for feature in X.columns:\n",
    "            probs = pd.DataFrame(index=self.classes)\n",
    "            for value in X[feature].unique():\n",
    "                probs[value] = 0.0\n",
    "                for class_name in self.classes:\n",
    "                    conditional_prob = len(X.loc[(y == class_name) & (X[feature] == value)]) / self.classes_counts[class_name].values[0]\n",
    "                    probs.loc[class_name, value] = conditional_prob\n",
    "            self.categorical_probs[feature] = probs\n",
    "\n",
    "\n",
    "\n",
    "    def _predict_row(self, X):  \n",
    "        predicted_probs = pd.DataFrame()\n",
    "        for class_name in self.classes:\n",
    "            prob = self.class_probs[class_name].values[0]\n",
    "            # numeric features\n",
    "            for feature in self.numeric_features:\n",
    "                mean = self.numeric_probs.loc[(self.numeric_probs.class_name == class_name) & \n",
    "                                              (self.numeric_probs.stats == 'mean'), feature]\n",
    "                std = self.numeric_probs.loc[(self.numeric_probs.class_name == class_name) & \n",
    "                                              (self.numeric_probs.stats == 'std'), feature]\n",
    "                prob *= norm.pdf(X[feature], mean, std)\n",
    "            # categorical features\n",
    "            for feature in self.categorical_features:\n",
    "                aux_probs = self.categorical_probs[feature][X[feature]].T\n",
    "                prob *= aux_probs[class_name].values\n",
    "                print(feature, prob)\n",
    "\n",
    "            predicted_probs[class_name] = prob\n",
    "        \n",
    "        # softmax normalization\n",
    "        predicted_probs = predicted_probs.apply(self.softmax_norm, axis=1)\n",
    "        return predicted_probs\n",
    "\n",
    "    def softmax_norm(self, X):\n",
    "        return X / X.sum()\n",
    "        \n",
    "    def predict_proba(self, X):\n",
    "        return self._predict_row(X)\n",
    "\n",
    "    def predict(self, X):\n",
    "        return self._predict_row(X).idxmax(axis=1)\n"
   ]
  },
  {
   "cell_type": "code",
   "execution_count": 34,
   "metadata": {},
   "outputs": [],
   "source": [
    "classifier = BayesClassifier(list(y.unique()))"
   ]
  },
  {
   "cell_type": "code",
   "execution_count": 35,
   "metadata": {},
   "outputs": [],
   "source": [
    "classifier.fit(x_train, y_train)"
   ]
  },
  {
   "cell_type": "code",
   "execution_count": 36,
   "metadata": {},
   "outputs": [],
   "source": [
    "test = pd.DataFrame()\n",
    "test['age'] = ['Youth']\n",
    "test['income'] = ['Medium']\n",
    "test['student'] = ['Yes']\n",
    "test['credit'] = ['Fair']"
   ]
  },
  {
   "cell_type": "code",
   "execution_count": 37,
   "metadata": {},
   "outputs": [
    {
     "data": {
      "text/html": [
       "<div>\n",
       "<style scoped>\n",
       "    .dataframe tbody tr th:only-of-type {\n",
       "        vertical-align: middle;\n",
       "    }\n",
       "\n",
       "    .dataframe tbody tr th {\n",
       "        vertical-align: top;\n",
       "    }\n",
       "\n",
       "    .dataframe thead th {\n",
       "        text-align: right;\n",
       "    }\n",
       "</style>\n",
       "<table border=\"1\" class=\"dataframe\">\n",
       "  <thead>\n",
       "    <tr style=\"text-align: right;\">\n",
       "      <th></th>\n",
       "      <th>age</th>\n",
       "      <th>income</th>\n",
       "      <th>student</th>\n",
       "      <th>credit</th>\n",
       "    </tr>\n",
       "  </thead>\n",
       "  <tbody>\n",
       "    <tr>\n",
       "      <th>0</th>\n",
       "      <td>Youth</td>\n",
       "      <td>Medium</td>\n",
       "      <td>Yes</td>\n",
       "      <td>Fair</td>\n",
       "    </tr>\n",
       "  </tbody>\n",
       "</table>\n",
       "</div>"
      ],
      "text/plain": [
       "     age  income student credit\n",
       "0  Youth  Medium     Yes   Fair"
      ]
     },
     "execution_count": 37,
     "metadata": {},
     "output_type": "execute_result"
    }
   ],
   "source": [
    "test"
   ]
  },
  {
   "cell_type": "code",
   "execution_count": 38,
   "metadata": {},
   "outputs": [
    {
     "name": "stdout",
     "output_type": "stream",
     "text": [
      "age [0.2 0.  0.  0. ]\n",
      "income [0.1 0.  0.  0. ]\n",
      "student [0.1 0.  0.  0. ]\n",
      "credit [0.05 0.   0.   0.  ]\n",
      "age [0.2 0.2 0.2 0.2]\n",
      "income [0.05 0.05 0.1  0.05]\n",
      "student [0.01875 0.03125 0.0375  0.03125]\n",
      "credit [0.01171875 0.01171875 0.0140625  0.01953125]\n"
     ]
    }
   ],
   "source": [
    "preds_bayes = classifier.predict(x_test)"
   ]
  },
  {
   "cell_type": "code",
   "execution_count": 39,
   "metadata": {},
   "outputs": [
    {
     "data": {
      "text/plain": [
       "0     No\n",
       "1    Yes\n",
       "2    Yes\n",
       "3    Yes\n",
       "dtype: object"
      ]
     },
     "execution_count": 39,
     "metadata": {},
     "output_type": "execute_result"
    }
   ],
   "source": [
    "preds_bayes"
   ]
  }
 ],
 "metadata": {
  "kernelspec": {
   "display_name": "aca",
   "language": "python",
   "name": "aca"
  },
  "language_info": {
   "codemirror_mode": {
    "name": "ipython",
    "version": 3
   },
   "file_extension": ".py",
   "mimetype": "text/x-python",
   "name": "python",
   "nbconvert_exporter": "python",
   "pygments_lexer": "ipython3",
   "version": "3.10.4"
  },
  "orig_nbformat": 4
 },
 "nbformat": 4,
 "nbformat_minor": 2
}
